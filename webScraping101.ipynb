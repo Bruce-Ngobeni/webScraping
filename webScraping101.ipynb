{
 "cells": [
  {
   "cell_type": "markdown",
   "id": "ee3e2468-1844-49bb-ae1e-1e8ba6fbcf6b",
   "metadata": {},
   "source": [
    "# Scraping Data from a Real Website into Pandas Data frames"
   ]
  },
  {
   "cell_type": "code",
   "execution_count": 73,
   "id": "fd546539-451f-4114-90cf-8b7fbb876bb8",
   "metadata": {},
   "outputs": [],
   "source": [
    "from bs4 import BeautifulSoup\n",
    "import requests\n",
    "import pandas as pd"
   ]
  },
  {
   "cell_type": "code",
   "execution_count": 36,
   "id": "192013d4-d73d-4352-a0ee-1d420d6d8c2d",
   "metadata": {},
   "outputs": [],
   "source": [
    "url = \"https://en.wikipedia.org/wiki/List_of_largest_companies_in_South_Africa\""
   ]
  },
  {
   "cell_type": "code",
   "execution_count": 37,
   "id": "68ec6eb0-4f67-4746-8f39-0004e2230883",
   "metadata": {},
   "outputs": [],
   "source": [
    "page = requests.get(url)"
   ]
  },
  {
   "cell_type": "code",
   "execution_count": 41,
   "id": "5a4f02a4-e78a-4336-b430-005155e38920",
   "metadata": {},
   "outputs": [],
   "source": [
    "soup = BeautifulSoup(page.text, \"html\")"
   ]
  },
  {
   "cell_type": "code",
   "execution_count": 46,
   "id": "84346e94-c41f-4313-82ff-336fb7f2763a",
   "metadata": {},
   "outputs": [],
   "source": [
    "table = soup.find(\"table\")"
   ]
  },
  {
   "cell_type": "code",
   "execution_count": 70,
   "id": "91ad04b9-3f41-4b93-a724-e4ebbd9a5f3d",
   "metadata": {},
   "outputs": [],
   "source": [
    "titles = [title.text.strip() for title in table.find_all(\"th\")]"
   ]
  },
  {
   "cell_type": "code",
   "execution_count": 71,
   "id": "58ebd9c7-bf1d-4626-b0d8-fea1e81c49a4",
   "metadata": {},
   "outputs": [
    {
     "name": "stdout",
     "output_type": "stream",
     "text": [
      "['Rank', 'Company', 'Revenue(US$ millions)', 'Profits(US$ millions)', 'Industry']\n"
     ]
    }
   ],
   "source": [
    "print(titles)"
   ]
  },
  {
   "cell_type": "code",
   "execution_count": 75,
   "id": "cd694e7d-49c8-49dc-80b3-d61caf00b4bc",
   "metadata": {},
   "outputs": [],
   "source": [
    "df = pd.DataFrame(columns = titles)"
   ]
  },
  {
   "cell_type": "code",
   "execution_count": 76,
   "id": "bd945b4b-3a54-431f-b10b-feee418b1cd6",
   "metadata": {},
   "outputs": [
    {
     "name": "stdout",
     "output_type": "stream",
     "text": [
      "Empty DataFrame\n",
      "Columns: [Rank, Company, Revenue(US$ millions), Profits(US$ millions), Industry]\n",
      "Index: []\n"
     ]
    }
   ],
   "source": [
    "print(df)"
   ]
  },
  {
   "cell_type": "code",
   "execution_count": null,
   "id": "d4b4b575-8cf9-4671-9f04-347efa5f49b4",
   "metadata": {},
   "outputs": [],
   "source": []
  }
 ],
 "metadata": {
  "kernelspec": {
   "display_name": "Python 3 (ipykernel)",
   "language": "python",
   "name": "python3"
  },
  "language_info": {
   "codemirror_mode": {
    "name": "ipython",
    "version": 3
   },
   "file_extension": ".py",
   "mimetype": "text/x-python",
   "name": "python",
   "nbconvert_exporter": "python",
   "pygments_lexer": "ipython3",
   "version": "3.12.3"
  }
 },
 "nbformat": 4,
 "nbformat_minor": 5
}
